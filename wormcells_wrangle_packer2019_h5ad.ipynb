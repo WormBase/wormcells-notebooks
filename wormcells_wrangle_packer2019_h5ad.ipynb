{
  "nbformat": 4,
  "nbformat_minor": 0,
  "metadata": {
    "colab": {
      "name": "wormcells_wrangle_packer2019_h5ad.ipynb",
      "provenance": [],
      "collapsed_sections": [],
      "include_colab_link": true
    },
    "kernelspec": {
      "display_name": "Python 3",
      "language": "python",
      "name": "python3"
    },
    "language_info": {
      "codemirror_mode": {
        "name": "ipython",
        "version": 3
      },
      "file_extension": ".py",
      "mimetype": "text/x-python",
      "name": "python",
      "nbconvert_exporter": "python",
      "pygments_lexer": "ipython3",
      "version": "3.7.4"
    }
  },
  "cells": [
    {
      "cell_type": "markdown",
      "metadata": {
        "id": "view-in-github",
        "colab_type": "text"
      },
      "source": [
        "<a href=\"https://colab.research.google.com/github/WormBase/wormcells-notebooks/blob/main/wormcells_wrangle_packer2019_h5ad.ipynb\" target=\"_parent\"><img src=\"https://colab.research.google.com/assets/colab-badge.svg\" alt=\"Open In Colab\"/></a>"
      ]
    },
    {
      "cell_type": "markdown",
      "metadata": {
        "id": "cSBTROq8_teg"
      },
      "source": [
        "## This notebook will create the `packer2019.h5ad` file \n",
        "\n",
        "\n",
        "**A lineage-resolved molecular atlas of C. elegans embryogenesis at single-cell resolution**\n",
        "\n",
        "_Jonathan S. Packer, Qin Zhu, Chau Huynh, Priya Sivaramakrishnan, Elicia Preston, Hannah Dueck, Derek Stefanik, Kai Tan, Cole Trapnell, Junhyong Kim†,\n",
        "Robert H. Waterston, John I. Murray_\n",
        "\n",
        "Science  20 Sep 2019: Vol. 365, Issue 6459, eaax1971\n",
        "\n",
        "[https://doi.org/10.1126/science.aax1971](https://doi.org/10.1126/science.aax1971)\n",
        "\n",
        "### Data description and links\n",
        "\n",
        "89,701 cells profiled with 10xv2 on multiple timepoints  of embryo development\n",
        "\n",
        "Raw sequencing data is available at https://www.ncbi.nlm.nih.gov/bioproject/658829\n",
        "\n",
        "Samples wrangled here:\n",
        "```\n",
        "GSM3618670\tUW synchronized 300 min post bleach\n",
        "GSM3618671\tUW synchronized 400 min post bleach\n",
        "GSM3618672\tUW synchronized 500 min post bleach batch 1\n",
        "GSM3618673\tUW synchronized 500 min post bleach batch 2\n",
        "GSM3618674\tUPenn mixed embryo batch r17\n",
        "GSM3618675\tUPenn mixed embryo batch b01\n",
        "GSM3618676\tUPenn mixed embryo batch b02\n",
        "```\n",
        "\n",
        "We use the files provided on GEO and download them from the corresponding ftp link\n",
        "```\n",
        "# GSE126954_cell_annotation.csv.gz\t2.7 Mb\t\n",
        "https://ftp.ncbi.nlm.nih.gov/geo/series/GSE126nnn/GSE126954/suppl/GSE126954_cell_annotation.csv.gz\n",
        "\n",
        "# GSE126954_gene_annotation.csv.gz\t173.1 Kb\t\n",
        "https://ftp.ncbi.nlm.nih.gov/geo/series/GSE126nnn/GSE126954/suppl/GSE126954_gene_annotation.csv.gz\n",
        "\n",
        "# GSE126954_gene_by_cell_count_matrix.txt.gz\t249.2 Mb\t\n",
        "https://ftp.ncbi.nlm.nih.gov/geo/series/GSE126nnn/GSE126954/suppl/GSE126954_gene_by_cell_count_matrix.txt.gz\n",
        "```\n",
        "\n",
        "\n",
        "## Data wrangling conventions\n",
        "\n",
        "The convention of how WormBase wrangles single cell RNA sequencing data into the [anndata](https://anndata.readthedocs.io/en/stable/) format in `.h5ad` files with standard fields is described here: https://github.com/WormBase/anndata-wrangling \n",
        "\n",
        "As possible, we attempt to keep the field names lower case, short, descriptive, and only using valid Python variable names so they may be accessed via the syntax `adata.var.field_name` \n",
        "\n",
        "Our goal is to standartize the naming convention for frequently used fields so that code may be reused without headaches changing variable names. The .h5ad file should only contain genes and cells with at least one count.\n"
      ]
    },
    {
      "cell_type": "code",
      "metadata": {
        "colab": {
          "base_uri": "https://localhost:8080/",
          "height": 52
        },
        "id": "kLZnYKGK_IAo",
        "outputId": "076942fe-7a26-44d5-fa5a-6d13cef87ffd"
      },
      "source": [
        "!pip install anndata --quiet\n",
        "import anndata \n",
        "import pandas as pd\n",
        "\n",
        "anndata.__version__"
      ],
      "execution_count": 1,
      "outputs": [
        {
          "output_type": "stream",
          "text": [
            "\u001b[?25l\r\u001b[K     |██▋                             | 10kB 10.3MB/s eta 0:00:01\r\u001b[K     |█████▏                          | 20kB 4.9MB/s eta 0:00:01\r\u001b[K     |███████▊                        | 30kB 3.6MB/s eta 0:00:01\r\u001b[K     |██████████▎                     | 40kB 3.5MB/s eta 0:00:01\r\u001b[K     |████████████▉                   | 51kB 1.9MB/s eta 0:00:01\r\u001b[K     |███████████████▍                | 61kB 2.1MB/s eta 0:00:01\r\u001b[K     |██████████████████              | 71kB 2.3MB/s eta 0:00:01\r\u001b[K     |████████████████████▌           | 81kB 2.4MB/s eta 0:00:01\r\u001b[K     |███████████████████████▏        | 92kB 2.6MB/s eta 0:00:01\r\u001b[K     |█████████████████████████▊      | 102kB 2.1MB/s eta 0:00:01\r\u001b[K     |████████████████████████████▎   | 112kB 2.1MB/s eta 0:00:01\r\u001b[K     |██████████████████████████████▉ | 122kB 2.1MB/s eta 0:00:01\r\u001b[K     |████████████████████████████████| 133kB 2.1MB/s \n",
            "\u001b[?25h"
          ],
          "name": "stdout"
        },
        {
          "output_type": "execute_result",
          "data": {
            "application/vnd.google.colaboratory.intrinsic+json": {
              "type": "string"
            },
            "text/plain": [
              "'0.7.6'"
            ]
          },
          "metadata": {
            "tags": []
          },
          "execution_count": 1
        }
      ]
    },
    {
      "cell_type": "code",
      "metadata": {
        "colab": {
          "base_uri": "https://localhost:8080/"
        },
        "id": "obq0fZ5XlVxR",
        "outputId": "307a8091-46c2-4e7d-8cf4-6eb575861d9e"
      },
      "source": [
        "### download the author provided files  files from Caltech data\n",
        "\n",
        "!wget -O GSE126954_cell_annotation.csv.gz https://ftp.ncbi.nlm.nih.gov/geo/series/GSE126nnn/GSE126954/suppl/GSE126954_cell_annotation.csv.gz\n",
        "!wget -O GSE126954_gene_annotation.csv.gz https://ftp.ncbi.nlm.nih.gov/geo/series/GSE126nnn/GSE126954/suppl/GSE126954_gene_annotation.csv.gz\n",
        "!wget -O GSE126954_gene_by_cell_count_matrix.txt.gz https://ftp.ncbi.nlm.nih.gov/geo/series/GSE126nnn/GSE126954/suppl/GSE126954_gene_by_cell_count_matrix.txt.gz"
      ],
      "execution_count": 2,
      "outputs": [
        {
          "output_type": "stream",
          "text": [
            "--2021-05-26 05:19:43--  https://ftp.ncbi.nlm.nih.gov/geo/series/GSE126nnn/GSE126954/suppl/GSE126954_cell_annotation.csv.gz\n",
            "Resolving ftp.ncbi.nlm.nih.gov (ftp.ncbi.nlm.nih.gov)... 130.14.250.7, 165.112.9.229, 2607:f220:41e:250::7, ...\n",
            "Connecting to ftp.ncbi.nlm.nih.gov (ftp.ncbi.nlm.nih.gov)|130.14.250.7|:443... connected.\n",
            "HTTP request sent, awaiting response... 200 OK\n",
            "Length: 2814304 (2.7M) [application/x-gzip]\n",
            "Saving to: ‘GSE126954_cell_annotation.csv.gz’\n",
            "\n",
            "GSE126954_cell_anno 100%[===================>]   2.68M  1.77MB/s    in 1.5s    \n",
            "\n",
            "2021-05-26 05:19:46 (1.77 MB/s) - ‘GSE126954_cell_annotation.csv.gz’ saved [2814304/2814304]\n",
            "\n",
            "--2021-05-26 05:19:46--  https://ftp.ncbi.nlm.nih.gov/geo/series/GSE126nnn/GSE126954/suppl/GSE126954_gene_annotation.csv.gz\n",
            "Resolving ftp.ncbi.nlm.nih.gov (ftp.ncbi.nlm.nih.gov)... 130.14.250.7, 165.112.9.229, 2607:f220:41e:250::10, ...\n",
            "Connecting to ftp.ncbi.nlm.nih.gov (ftp.ncbi.nlm.nih.gov)|130.14.250.7|:443... connected.\n",
            "HTTP request sent, awaiting response... 200 OK\n",
            "Length: 177278 (173K) [application/x-gzip]\n",
            "Saving to: ‘GSE126954_gene_annotation.csv.gz’\n",
            "\n",
            "GSE126954_gene_anno 100%[===================>] 173.12K   304KB/s    in 0.6s    \n",
            "\n",
            "2021-05-26 05:19:47 (304 KB/s) - ‘GSE126954_gene_annotation.csv.gz’ saved [177278/177278]\n",
            "\n",
            "--2021-05-26 05:19:47--  https://ftp.ncbi.nlm.nih.gov/geo/series/GSE126nnn/GSE126954/suppl/GSE126954_gene_by_cell_count_matrix.txt.gz\n",
            "Resolving ftp.ncbi.nlm.nih.gov (ftp.ncbi.nlm.nih.gov)... 130.14.250.7, 165.112.9.229, 2607:f220:41e:250::10, ...\n",
            "Connecting to ftp.ncbi.nlm.nih.gov (ftp.ncbi.nlm.nih.gov)|130.14.250.7|:443... connected.\n",
            "HTTP request sent, awaiting response... 200 OK\n",
            "Length: 261278354 (249M) [application/x-gzip]\n",
            "Saving to: ‘GSE126954_gene_by_cell_count_matrix.txt.gz’\n",
            "\n",
            "GSE126954_gene_by_c 100%[===================>] 249.17M  15.5MB/s    in 17s     \n",
            "\n",
            "2021-05-26 05:20:06 (14.3 MB/s) - ‘GSE126954_gene_by_cell_count_matrix.txt.gz’ saved [261278354/261278354]\n",
            "\n"
          ],
          "name": "stdout"
        }
      ]
    },
    {
      "cell_type": "code",
      "metadata": {
        "colab": {
          "base_uri": "https://localhost:8080/",
          "height": 683
        },
        "id": "MxJEtMPq_SmN",
        "outputId": "9d6801d3-7b05-4f7c-830b-4f232eca71ba"
      },
      "source": [
        "### LOAD CELL ANNOTATION DATAFRAME\n",
        "### wrangles names to conform to convention\n",
        "\n",
        "cells = pd.read_csv('GSE126954_cell_annotation.csv.gz')\n",
        "display(cells.head())\n",
        "cells=cells.fillna('unlabeled')\n",
        "cells['barcode']=cells.cell.str.split('-', expand=True)[0]\n",
        "cells=cells.rename(columns={'batch':'sample_batch',\n",
        "                            'cell.subtype':'cell_subtype',\n",
        "                            'cell.type':'cell_type',\n",
        "                            'raw.embryo.time':'raw_embryo_time',\n",
        "                            'embryo.time':'embryo_time',\n",
        "                            'time.point':'time_point'\n",
        "                            })\n",
        "cells.index=cells['sample_batch']+'+'+cells['barcode']\n",
        "cells['study']='packer2019'\n",
        "cells['sample']=cells['sample_batch']\n",
        "cells['sample_description']=cells['sample'].map({\n",
        "'Waterston_300_minutes':'GSM3618670    UW synchronized 300 min post bleach',\n",
        "'Waterston_400_minutes':'GSM3618671    UW synchronized 400 min post bleach',\n",
        "'Waterston_500_minutes_batch_1':'GSM3618672    UW synchronized 500 min post bleach batch 1',\n",
        "'Waterston_500_minutes_batch_2':'GSM3618673    UW synchronized 500 min post bleach batch 2',\n",
        "'Murray_r17':'GSM3618674    UPenn mixed embryo batch r17',\n",
        "'Murray_b01':'GSM3618675    UPenn mixed embryo batch b01',\n",
        "'Murray_b02':'GSM3618676    UPenn mixed embryo batch b02'    \n",
        "})\n",
        "cells=cells[['study','sample_batch','sample','cell_type','cell_subtype','sample_description','barcode','raw_embryo_time','embryo_time','time_point','lineage']]\n",
        "display(cells.head())\n",
        "\n",
        "### CHECK THAT CELLS DATAFRAME CONFORMS TO ADATA NAMING CONVENTION\n",
        "### must contain at least columns `gene_id` and `gene_name`\n",
        "for column_name in ['study','sample_batch','sample','sample_description','barcode','cell_type','cell_subtype']:\n",
        "    if column_name not in cells.columns:\n",
        "        raise ValueError(column_name + ' is not a name in gene dataframe columns')\n",
        "         \n",
        "print('cells column names look ok!')"
      ],
      "execution_count": 3,
      "outputs": [
        {
          "output_type": "display_data",
          "data": {
            "text/html": [
              "<div>\n",
              "<style scoped>\n",
              "    .dataframe tbody tr th:only-of-type {\n",
              "        vertical-align: middle;\n",
              "    }\n",
              "\n",
              "    .dataframe tbody tr th {\n",
              "        vertical-align: top;\n",
              "    }\n",
              "\n",
              "    .dataframe thead th {\n",
              "        text-align: right;\n",
              "    }\n",
              "</style>\n",
              "<table border=\"1\" class=\"dataframe\">\n",
              "  <thead>\n",
              "    <tr style=\"text-align: right;\">\n",
              "      <th></th>\n",
              "      <th>Unnamed: 0</th>\n",
              "      <th>cell</th>\n",
              "      <th>n.umi</th>\n",
              "      <th>time.point</th>\n",
              "      <th>batch</th>\n",
              "      <th>Size_Factor</th>\n",
              "      <th>cell.type</th>\n",
              "      <th>cell.subtype</th>\n",
              "      <th>plot.cell.type</th>\n",
              "      <th>raw.embryo.time</th>\n",
              "      <th>embryo.time</th>\n",
              "      <th>embryo.time.bin</th>\n",
              "      <th>raw.embryo.time.bin</th>\n",
              "      <th>lineage</th>\n",
              "      <th>passed_initial_QC_or_later_whitelisted</th>\n",
              "    </tr>\n",
              "  </thead>\n",
              "  <tbody>\n",
              "    <tr>\n",
              "      <th>0</th>\n",
              "      <td>AAACCTGAGACAATAC-300.1.1</td>\n",
              "      <td>AAACCTGAGACAATAC-300.1.1</td>\n",
              "      <td>1630</td>\n",
              "      <td>300_minutes</td>\n",
              "      <td>Waterston_300_minutes</td>\n",
              "      <td>1.023195</td>\n",
              "      <td>Body_wall_muscle</td>\n",
              "      <td>BWM_head_row_1</td>\n",
              "      <td>BWM_head_row_1</td>\n",
              "      <td>360</td>\n",
              "      <td>380.0</td>\n",
              "      <td>330-390</td>\n",
              "      <td>330-390</td>\n",
              "      <td>MSxpappp</td>\n",
              "      <td>True</td>\n",
              "    </tr>\n",
              "    <tr>\n",
              "      <th>1</th>\n",
              "      <td>AAACCTGAGGGCTCTC-300.1.1</td>\n",
              "      <td>AAACCTGAGGGCTCTC-300.1.1</td>\n",
              "      <td>2319</td>\n",
              "      <td>300_minutes</td>\n",
              "      <td>Waterston_300_minutes</td>\n",
              "      <td>1.458210</td>\n",
              "      <td>NaN</td>\n",
              "      <td>NaN</td>\n",
              "      <td>NaN</td>\n",
              "      <td>260</td>\n",
              "      <td>220.0</td>\n",
              "      <td>210-270</td>\n",
              "      <td>210-270</td>\n",
              "      <td>MSxapaap</td>\n",
              "      <td>True</td>\n",
              "    </tr>\n",
              "    <tr>\n",
              "      <th>2</th>\n",
              "      <td>AAACCTGAGTGCGTGA-300.1.1</td>\n",
              "      <td>AAACCTGAGTGCGTGA-300.1.1</td>\n",
              "      <td>3719</td>\n",
              "      <td>300_minutes</td>\n",
              "      <td>Waterston_300_minutes</td>\n",
              "      <td>2.338283</td>\n",
              "      <td>NaN</td>\n",
              "      <td>NaN</td>\n",
              "      <td>NaN</td>\n",
              "      <td>270</td>\n",
              "      <td>230.0</td>\n",
              "      <td>210-270</td>\n",
              "      <td>270-330</td>\n",
              "      <td>NaN</td>\n",
              "      <td>True</td>\n",
              "    </tr>\n",
              "    <tr>\n",
              "      <th>3</th>\n",
              "      <td>AAACCTGAGTTGAGTA-300.1.1</td>\n",
              "      <td>AAACCTGAGTTGAGTA-300.1.1</td>\n",
              "      <td>4251</td>\n",
              "      <td>300_minutes</td>\n",
              "      <td>Waterston_300_minutes</td>\n",
              "      <td>2.659051</td>\n",
              "      <td>Body_wall_muscle</td>\n",
              "      <td>BWM_anterior</td>\n",
              "      <td>BWM_anterior</td>\n",
              "      <td>260</td>\n",
              "      <td>280.0</td>\n",
              "      <td>270-330</td>\n",
              "      <td>210-270</td>\n",
              "      <td>Dxap</td>\n",
              "      <td>True</td>\n",
              "    </tr>\n",
              "    <tr>\n",
              "      <th>4</th>\n",
              "      <td>AAACCTGCAAGACGTG-300.1.1</td>\n",
              "      <td>AAACCTGCAAGACGTG-300.1.1</td>\n",
              "      <td>1003</td>\n",
              "      <td>300_minutes</td>\n",
              "      <td>Waterston_300_minutes</td>\n",
              "      <td>0.629610</td>\n",
              "      <td>Ciliated_amphid_neuron</td>\n",
              "      <td>AFD</td>\n",
              "      <td>AFD</td>\n",
              "      <td>350</td>\n",
              "      <td>350.0</td>\n",
              "      <td>330-390</td>\n",
              "      <td>330-390</td>\n",
              "      <td>ABalpppapav/ABpraaaapav</td>\n",
              "      <td>True</td>\n",
              "    </tr>\n",
              "  </tbody>\n",
              "</table>\n",
              "</div>"
            ],
            "text/plain": [
              "                 Unnamed: 0  ... passed_initial_QC_or_later_whitelisted\n",
              "0  AAACCTGAGACAATAC-300.1.1  ...                                   True\n",
              "1  AAACCTGAGGGCTCTC-300.1.1  ...                                   True\n",
              "2  AAACCTGAGTGCGTGA-300.1.1  ...                                   True\n",
              "3  AAACCTGAGTTGAGTA-300.1.1  ...                                   True\n",
              "4  AAACCTGCAAGACGTG-300.1.1  ...                                   True\n",
              "\n",
              "[5 rows x 15 columns]"
            ]
          },
          "metadata": {
            "tags": []
          }
        },
        {
          "output_type": "display_data",
          "data": {
            "text/html": [
              "<div>\n",
              "<style scoped>\n",
              "    .dataframe tbody tr th:only-of-type {\n",
              "        vertical-align: middle;\n",
              "    }\n",
              "\n",
              "    .dataframe tbody tr th {\n",
              "        vertical-align: top;\n",
              "    }\n",
              "\n",
              "    .dataframe thead th {\n",
              "        text-align: right;\n",
              "    }\n",
              "</style>\n",
              "<table border=\"1\" class=\"dataframe\">\n",
              "  <thead>\n",
              "    <tr style=\"text-align: right;\">\n",
              "      <th></th>\n",
              "      <th>study</th>\n",
              "      <th>sample_batch</th>\n",
              "      <th>sample</th>\n",
              "      <th>cell_type</th>\n",
              "      <th>cell_subtype</th>\n",
              "      <th>sample_description</th>\n",
              "      <th>barcode</th>\n",
              "      <th>raw_embryo_time</th>\n",
              "      <th>embryo_time</th>\n",
              "      <th>time_point</th>\n",
              "      <th>lineage</th>\n",
              "    </tr>\n",
              "  </thead>\n",
              "  <tbody>\n",
              "    <tr>\n",
              "      <th>Waterston_300_minutes+AAACCTGAGACAATAC</th>\n",
              "      <td>packer2019</td>\n",
              "      <td>Waterston_300_minutes</td>\n",
              "      <td>Waterston_300_minutes</td>\n",
              "      <td>Body_wall_muscle</td>\n",
              "      <td>BWM_head_row_1</td>\n",
              "      <td>GSM3618670    UW synchronized 300 min post bleach</td>\n",
              "      <td>AAACCTGAGACAATAC</td>\n",
              "      <td>360</td>\n",
              "      <td>380.0</td>\n",
              "      <td>300_minutes</td>\n",
              "      <td>MSxpappp</td>\n",
              "    </tr>\n",
              "    <tr>\n",
              "      <th>Waterston_300_minutes+AAACCTGAGGGCTCTC</th>\n",
              "      <td>packer2019</td>\n",
              "      <td>Waterston_300_minutes</td>\n",
              "      <td>Waterston_300_minutes</td>\n",
              "      <td>unlabeled</td>\n",
              "      <td>unlabeled</td>\n",
              "      <td>GSM3618670    UW synchronized 300 min post bleach</td>\n",
              "      <td>AAACCTGAGGGCTCTC</td>\n",
              "      <td>260</td>\n",
              "      <td>220.0</td>\n",
              "      <td>300_minutes</td>\n",
              "      <td>MSxapaap</td>\n",
              "    </tr>\n",
              "    <tr>\n",
              "      <th>Waterston_300_minutes+AAACCTGAGTGCGTGA</th>\n",
              "      <td>packer2019</td>\n",
              "      <td>Waterston_300_minutes</td>\n",
              "      <td>Waterston_300_minutes</td>\n",
              "      <td>unlabeled</td>\n",
              "      <td>unlabeled</td>\n",
              "      <td>GSM3618670    UW synchronized 300 min post bleach</td>\n",
              "      <td>AAACCTGAGTGCGTGA</td>\n",
              "      <td>270</td>\n",
              "      <td>230.0</td>\n",
              "      <td>300_minutes</td>\n",
              "      <td>unlabeled</td>\n",
              "    </tr>\n",
              "    <tr>\n",
              "      <th>Waterston_300_minutes+AAACCTGAGTTGAGTA</th>\n",
              "      <td>packer2019</td>\n",
              "      <td>Waterston_300_minutes</td>\n",
              "      <td>Waterston_300_minutes</td>\n",
              "      <td>Body_wall_muscle</td>\n",
              "      <td>BWM_anterior</td>\n",
              "      <td>GSM3618670    UW synchronized 300 min post bleach</td>\n",
              "      <td>AAACCTGAGTTGAGTA</td>\n",
              "      <td>260</td>\n",
              "      <td>280.0</td>\n",
              "      <td>300_minutes</td>\n",
              "      <td>Dxap</td>\n",
              "    </tr>\n",
              "    <tr>\n",
              "      <th>Waterston_300_minutes+AAACCTGCAAGACGTG</th>\n",
              "      <td>packer2019</td>\n",
              "      <td>Waterston_300_minutes</td>\n",
              "      <td>Waterston_300_minutes</td>\n",
              "      <td>Ciliated_amphid_neuron</td>\n",
              "      <td>AFD</td>\n",
              "      <td>GSM3618670    UW synchronized 300 min post bleach</td>\n",
              "      <td>AAACCTGCAAGACGTG</td>\n",
              "      <td>350</td>\n",
              "      <td>350.0</td>\n",
              "      <td>300_minutes</td>\n",
              "      <td>ABalpppapav/ABpraaaapav</td>\n",
              "    </tr>\n",
              "  </tbody>\n",
              "</table>\n",
              "</div>"
            ],
            "text/plain": [
              "                                             study  ...                  lineage\n",
              "Waterston_300_minutes+AAACCTGAGACAATAC  packer2019  ...                 MSxpappp\n",
              "Waterston_300_minutes+AAACCTGAGGGCTCTC  packer2019  ...                 MSxapaap\n",
              "Waterston_300_minutes+AAACCTGAGTGCGTGA  packer2019  ...                unlabeled\n",
              "Waterston_300_minutes+AAACCTGAGTTGAGTA  packer2019  ...                     Dxap\n",
              "Waterston_300_minutes+AAACCTGCAAGACGTG  packer2019  ...  ABalpppapav/ABpraaaapav\n",
              "\n",
              "[5 rows x 11 columns]"
            ]
          },
          "metadata": {
            "tags": []
          }
        },
        {
          "output_type": "stream",
          "text": [
            "cells column names look ok!\n"
          ],
          "name": "stdout"
        }
      ]
    },
    {
      "cell_type": "code",
      "metadata": {
        "colab": {
          "base_uri": "https://localhost:8080/",
          "height": 204
        },
        "id": "rlKBEDvzGJw8",
        "outputId": "1d5ab80b-aea2-4598-a6cc-4382c96415a7"
      },
      "source": [
        "genes = pd.read_csv('GSE126954_gene_annotation.csv.gz', index_col=0)\n",
        "display(genes.head())"
      ],
      "execution_count": 4,
      "outputs": [
        {
          "output_type": "display_data",
          "data": {
            "text/html": [
              "<div>\n",
              "<style scoped>\n",
              "    .dataframe tbody tr th:only-of-type {\n",
              "        vertical-align: middle;\n",
              "    }\n",
              "\n",
              "    .dataframe tbody tr th {\n",
              "        vertical-align: top;\n",
              "    }\n",
              "\n",
              "    .dataframe thead th {\n",
              "        text-align: right;\n",
              "    }\n",
              "</style>\n",
              "<table border=\"1\" class=\"dataframe\">\n",
              "  <thead>\n",
              "    <tr style=\"text-align: right;\">\n",
              "      <th></th>\n",
              "      <th>id</th>\n",
              "      <th>gene_short_name</th>\n",
              "    </tr>\n",
              "  </thead>\n",
              "  <tbody>\n",
              "    <tr>\n",
              "      <th>WBGene00010957</th>\n",
              "      <td>WBGene00010957</td>\n",
              "      <td>nduo-6</td>\n",
              "    </tr>\n",
              "    <tr>\n",
              "      <th>WBGene00010958</th>\n",
              "      <td>WBGene00010958</td>\n",
              "      <td>ndfl-4</td>\n",
              "    </tr>\n",
              "    <tr>\n",
              "      <th>WBGene00010959</th>\n",
              "      <td>WBGene00010959</td>\n",
              "      <td>nduo-1</td>\n",
              "    </tr>\n",
              "    <tr>\n",
              "      <th>WBGene00010960</th>\n",
              "      <td>WBGene00010960</td>\n",
              "      <td>atp-6</td>\n",
              "    </tr>\n",
              "    <tr>\n",
              "      <th>WBGene00010961</th>\n",
              "      <td>WBGene00010961</td>\n",
              "      <td>nduo-2</td>\n",
              "    </tr>\n",
              "  </tbody>\n",
              "</table>\n",
              "</div>"
            ],
            "text/plain": [
              "                            id gene_short_name\n",
              "WBGene00010957  WBGene00010957          nduo-6\n",
              "WBGene00010958  WBGene00010958          ndfl-4\n",
              "WBGene00010959  WBGene00010959          nduo-1\n",
              "WBGene00010960  WBGene00010960           atp-6\n",
              "WBGene00010961  WBGene00010961          nduo-2"
            ]
          },
          "metadata": {
            "tags": []
          }
        }
      ]
    },
    {
      "cell_type": "code",
      "metadata": {
        "colab": {
          "base_uri": "https://localhost:8080/",
          "height": 623
        },
        "id": "SE7qbuzw1aSI",
        "outputId": "a1128a8c-75bc-43b0-8e2b-06cce6de16e9"
      },
      "source": [
        "### LOAD GENE DATAFRAME AND CHANGES NAMES TO CONVENTION\n",
        "genes = pd.read_csv('GSE126954_gene_annotation.csv.gz', index_col=0)\n",
        "display(genes.head())\n",
        "genes=genes.rename(columns={'id':'gene_id','gene_short_name':'gene_name'})\n",
        "display(genes)\n",
        "\n",
        "### CHECK THAT GENES DATAFRAME CONFORMS TO ADATA NAMING CONVENTION\n",
        "### must contain at least columns `gene_id` and `gene_name`\n",
        "for column_name in ['gene_id','gene_name']:\n",
        "    if column_name not in genes.columns:\n",
        "        raise ValueError(column_name + ' is not a name in gene dataframe columns')\n",
        "         \n",
        "print('gene column names look ok!')"
      ],
      "execution_count": 5,
      "outputs": [
        {
          "output_type": "display_data",
          "data": {
            "text/html": [
              "<div>\n",
              "<style scoped>\n",
              "    .dataframe tbody tr th:only-of-type {\n",
              "        vertical-align: middle;\n",
              "    }\n",
              "\n",
              "    .dataframe tbody tr th {\n",
              "        vertical-align: top;\n",
              "    }\n",
              "\n",
              "    .dataframe thead th {\n",
              "        text-align: right;\n",
              "    }\n",
              "</style>\n",
              "<table border=\"1\" class=\"dataframe\">\n",
              "  <thead>\n",
              "    <tr style=\"text-align: right;\">\n",
              "      <th></th>\n",
              "      <th>id</th>\n",
              "      <th>gene_short_name</th>\n",
              "    </tr>\n",
              "  </thead>\n",
              "  <tbody>\n",
              "    <tr>\n",
              "      <th>WBGene00010957</th>\n",
              "      <td>WBGene00010957</td>\n",
              "      <td>nduo-6</td>\n",
              "    </tr>\n",
              "    <tr>\n",
              "      <th>WBGene00010958</th>\n",
              "      <td>WBGene00010958</td>\n",
              "      <td>ndfl-4</td>\n",
              "    </tr>\n",
              "    <tr>\n",
              "      <th>WBGene00010959</th>\n",
              "      <td>WBGene00010959</td>\n",
              "      <td>nduo-1</td>\n",
              "    </tr>\n",
              "    <tr>\n",
              "      <th>WBGene00010960</th>\n",
              "      <td>WBGene00010960</td>\n",
              "      <td>atp-6</td>\n",
              "    </tr>\n",
              "    <tr>\n",
              "      <th>WBGene00010961</th>\n",
              "      <td>WBGene00010961</td>\n",
              "      <td>nduo-2</td>\n",
              "    </tr>\n",
              "  </tbody>\n",
              "</table>\n",
              "</div>"
            ],
            "text/plain": [
              "                            id gene_short_name\n",
              "WBGene00010957  WBGene00010957          nduo-6\n",
              "WBGene00010958  WBGene00010958          ndfl-4\n",
              "WBGene00010959  WBGene00010959          nduo-1\n",
              "WBGene00010960  WBGene00010960           atp-6\n",
              "WBGene00010961  WBGene00010961          nduo-2"
            ]
          },
          "metadata": {
            "tags": []
          }
        },
        {
          "output_type": "display_data",
          "data": {
            "text/html": [
              "<div>\n",
              "<style scoped>\n",
              "    .dataframe tbody tr th:only-of-type {\n",
              "        vertical-align: middle;\n",
              "    }\n",
              "\n",
              "    .dataframe tbody tr th {\n",
              "        vertical-align: top;\n",
              "    }\n",
              "\n",
              "    .dataframe thead th {\n",
              "        text-align: right;\n",
              "    }\n",
              "</style>\n",
              "<table border=\"1\" class=\"dataframe\">\n",
              "  <thead>\n",
              "    <tr style=\"text-align: right;\">\n",
              "      <th></th>\n",
              "      <th>gene_id</th>\n",
              "      <th>gene_name</th>\n",
              "    </tr>\n",
              "  </thead>\n",
              "  <tbody>\n",
              "    <tr>\n",
              "      <th>WBGene00010957</th>\n",
              "      <td>WBGene00010957</td>\n",
              "      <td>nduo-6</td>\n",
              "    </tr>\n",
              "    <tr>\n",
              "      <th>WBGene00010958</th>\n",
              "      <td>WBGene00010958</td>\n",
              "      <td>ndfl-4</td>\n",
              "    </tr>\n",
              "    <tr>\n",
              "      <th>WBGene00010959</th>\n",
              "      <td>WBGene00010959</td>\n",
              "      <td>nduo-1</td>\n",
              "    </tr>\n",
              "    <tr>\n",
              "      <th>WBGene00010960</th>\n",
              "      <td>WBGene00010960</td>\n",
              "      <td>atp-6</td>\n",
              "    </tr>\n",
              "    <tr>\n",
              "      <th>WBGene00010961</th>\n",
              "      <td>WBGene00010961</td>\n",
              "      <td>nduo-2</td>\n",
              "    </tr>\n",
              "    <tr>\n",
              "      <th>...</th>\n",
              "      <td>...</td>\n",
              "      <td>...</td>\n",
              "    </tr>\n",
              "    <tr>\n",
              "      <th>WBGene00021597</th>\n",
              "      <td>WBGene00021597</td>\n",
              "      <td>spsb-1</td>\n",
              "    </tr>\n",
              "    <tr>\n",
              "      <th>WBGene00021596</th>\n",
              "      <td>WBGene00021596</td>\n",
              "      <td>spsb-2</td>\n",
              "    </tr>\n",
              "    <tr>\n",
              "      <th>WBGene00021595</th>\n",
              "      <td>WBGene00021595</td>\n",
              "      <td>Y46E12BL.2</td>\n",
              "    </tr>\n",
              "    <tr>\n",
              "      <th>WBGene00021594</th>\n",
              "      <td>WBGene00021594</td>\n",
              "      <td>tig-3</td>\n",
              "    </tr>\n",
              "    <tr>\n",
              "      <th>WBGene00007064</th>\n",
              "      <td>WBGene00007064</td>\n",
              "      <td>2RSSE.1</td>\n",
              "    </tr>\n",
              "  </tbody>\n",
              "</table>\n",
              "<p>20222 rows × 2 columns</p>\n",
              "</div>"
            ],
            "text/plain": [
              "                       gene_id   gene_name\n",
              "WBGene00010957  WBGene00010957      nduo-6\n",
              "WBGene00010958  WBGene00010958      ndfl-4\n",
              "WBGene00010959  WBGene00010959      nduo-1\n",
              "WBGene00010960  WBGene00010960       atp-6\n",
              "WBGene00010961  WBGene00010961      nduo-2\n",
              "...                        ...         ...\n",
              "WBGene00021597  WBGene00021597      spsb-1\n",
              "WBGene00021596  WBGene00021596      spsb-2\n",
              "WBGene00021595  WBGene00021595  Y46E12BL.2\n",
              "WBGene00021594  WBGene00021594       tig-3\n",
              "WBGene00007064  WBGene00007064     2RSSE.1\n",
              "\n",
              "[20222 rows x 2 columns]"
            ]
          },
          "metadata": {
            "tags": []
          }
        },
        {
          "output_type": "stream",
          "text": [
            "gene column names look ok!\n"
          ],
          "name": "stdout"
        }
      ]
    },
    {
      "cell_type": "code",
      "metadata": {
        "colab": {
          "base_uri": "https://localhost:8080/"
        },
        "id": "3fzM_bqUKBhX",
        "outputId": "43c5c4e9-0806-44ea-ccdd-26aa71c293d7"
      },
      "source": [
        "adata=anndata.read_mtx('GSE126954_gene_by_cell_count_matrix.txt.gz')\n",
        "adata=adata.T\n",
        "adata.var=genes\n",
        "adata.obs=cells\n",
        "\n",
        "### CHECK THAT OBS AND VAR CONFORMS TO ADATA NAMING CONVENTION\n",
        "for column_name in ['study','sample_batch','sample','sample_description','barcode','cell_type','cell_subtype']:\n",
        "    if column_name not in adata.obs.columns:\n",
        "        raise ValueError(column_name + ' is not a name in gene adata.var columns')\n",
        "for column_name in ['gene_id','gene_name']:\n",
        "    if column_name not in adata.var.columns:\n",
        "        raise ValueError(column_name + ' is not a name in gene adata.obs columns')\n",
        "         \n",
        "print('adata.var and adata.obs column names look ok!')\n",
        "adata.write_h5ad('packer2019.h5ad')\n",
        "adata"
      ],
      "execution_count": 6,
      "outputs": [
        {
          "output_type": "stream",
          "text": [
            "... storing 'study' as categorical\n",
            "... storing 'sample_batch' as categorical\n",
            "... storing 'sample' as categorical\n",
            "... storing 'cell_type' as categorical\n",
            "... storing 'cell_subtype' as categorical\n",
            "... storing 'sample_description' as categorical\n"
          ],
          "name": "stderr"
        },
        {
          "output_type": "stream",
          "text": [
            "adata.var and adata.obs column names look ok!\n"
          ],
          "name": "stdout"
        },
        {
          "output_type": "stream",
          "text": [
            "... storing 'barcode' as categorical\n",
            "... storing 'time_point' as categorical\n",
            "... storing 'lineage' as categorical\n"
          ],
          "name": "stderr"
        },
        {
          "output_type": "execute_result",
          "data": {
            "text/plain": [
              "AnnData object with n_obs × n_vars = 89701 × 20222\n",
              "    obs: 'study', 'sample_batch', 'sample', 'cell_type', 'cell_subtype', 'sample_description', 'barcode', 'raw_embryo_time', 'embryo_time', 'time_point', 'lineage'\n",
              "    var: 'gene_id', 'gene_name'"
            ]
          },
          "metadata": {
            "tags": []
          },
          "execution_count": 6
        }
      ]
    },
    {
      "cell_type": "code",
      "metadata": {
        "colab": {
          "base_uri": "https://localhost:8080/"
        },
        "id": "2NQRP1XGp0np",
        "outputId": "e56f3e42-22a7-4048-eef6-11356f9e0ef2"
      },
      "source": [
        "print(adata) "
      ],
      "execution_count": 7,
      "outputs": [
        {
          "output_type": "stream",
          "text": [
            "AnnData object with n_obs × n_vars = 89701 × 20222\n",
            "    obs: 'study', 'sample_batch', 'sample', 'cell_type', 'cell_subtype', 'sample_description', 'barcode', 'raw_embryo_time', 'embryo_time', 'time_point', 'lineage'\n",
            "    var: 'gene_id', 'gene_name'\n"
          ],
          "name": "stdout"
        }
      ]
    },
    {
      "cell_type": "code",
      "metadata": {
        "colab": {
          "base_uri": "https://localhost:8080/"
        },
        "id": "fiLW6qSYp1NG",
        "outputId": "abe792e9-3162-4a2a-acde-ca381c46da9a"
      },
      "source": [
        "print(adata.obs.head().T) "
      ],
      "execution_count": 8,
      "outputs": [
        {
          "output_type": "stream",
          "text": [
            "                               Waterston_300_minutes+AAACCTGAGACAATAC  ...             Waterston_300_minutes+AAACCTGCAAGACGTG\n",
            "study                                                      packer2019  ...                                         packer2019\n",
            "sample_batch                                    Waterston_300_minutes  ...                              Waterston_300_minutes\n",
            "sample                                          Waterston_300_minutes  ...                              Waterston_300_minutes\n",
            "cell_type                                            Body_wall_muscle  ...                             Ciliated_amphid_neuron\n",
            "cell_subtype                                           BWM_head_row_1  ...                                                AFD\n",
            "sample_description  GSM3618670    UW synchronized 300 min post bleach  ...  GSM3618670    UW synchronized 300 min post bleach\n",
            "barcode                                              AAACCTGAGACAATAC  ...                                   AAACCTGCAAGACGTG\n",
            "raw_embryo_time                                                   360  ...                                                350\n",
            "embryo_time                                                       380  ...                                                350\n",
            "time_point                                                300_minutes  ...                                        300_minutes\n",
            "lineage                                                      MSxpappp  ...                            ABalpppapav/ABpraaaapav\n",
            "\n",
            "[11 rows x 5 columns]\n"
          ],
          "name": "stdout"
        }
      ]
    },
    {
      "cell_type": "code",
      "metadata": {
        "colab": {
          "base_uri": "https://localhost:8080/"
        },
        "id": "XJbGr3ygp4Xz",
        "outputId": "3bfaddf3-0bfc-420e-99ed-fd1ef61727d6"
      },
      "source": [
        "print(adata.var.head().T) "
      ],
      "execution_count": 9,
      "outputs": [
        {
          "output_type": "stream",
          "text": [
            "           WBGene00010957  WBGene00010958  ...  WBGene00010960  WBGene00010961\n",
            "gene_id    WBGene00010957  WBGene00010958  ...  WBGene00010960  WBGene00010961\n",
            "gene_name          nduo-6          ndfl-4  ...           atp-6          nduo-2\n",
            "\n",
            "[2 rows x 5 columns]\n"
          ],
          "name": "stdout"
        }
      ]
    },
    {
      "cell_type": "code",
      "metadata": {
        "colab": {
          "base_uri": "https://localhost:8080/"
        },
        "id": "Ic70sEAWp9Ox",
        "outputId": "49d22aae-19e6-43fc-a863-f65672720103"
      },
      "source": [
        "adata"
      ],
      "execution_count": 10,
      "outputs": [
        {
          "output_type": "execute_result",
          "data": {
            "text/plain": [
              "AnnData object with n_obs × n_vars = 89701 × 20222\n",
              "    obs: 'study', 'sample_batch', 'sample', 'cell_type', 'cell_subtype', 'sample_description', 'barcode', 'raw_embryo_time', 'embryo_time', 'time_point', 'lineage'\n",
              "    var: 'gene_id', 'gene_name'"
            ]
          },
          "metadata": {
            "tags": []
          },
          "execution_count": 10
        }
      ]
    },
    {
      "cell_type": "code",
      "metadata": {
        "id": "k1L_1zfeKUGQ"
      },
      "source": [
        ""
      ],
      "execution_count": null,
      "outputs": []
    }
  ]
}