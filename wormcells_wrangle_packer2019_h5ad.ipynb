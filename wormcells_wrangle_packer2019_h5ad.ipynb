{
  "nbformat": 4,
  "nbformat_minor": 0,
  "metadata": {
    "colab": {
      "name": "wormcells_wrangle_packer2019.h5ad.ipynb",
      "provenance": [],
      "authorship_tag": "ABX9TyOTHn12q/4D8Q8TTFAwm737",
      "include_colab_link": true
    },
    "kernelspec": {
      "name": "python3",
      "display_name": "Python 3"
    },
    "language_info": {
      "name": "python"
    }
  },
  "cells": [
    {
      "cell_type": "markdown",
      "metadata": {
        "id": "view-in-github",
        "colab_type": "text"
      },
      "source": [
        "<a href=\"https://colab.research.google.com/github/WormBase/wormcells-notebooks/blob/main/wormcells_wrangle_packer2019_h5ad.ipynb\" target=\"_parent\"><img src=\"https://colab.research.google.com/assets/colab-badge.svg\" alt=\"Open In Colab\"/></a>"
      ]
    },
    {
      "cell_type": "markdown",
      "metadata": {
        "id": "cSBTROq8_teg"
      },
      "source": [
        "## This notebook will create the `packer2019.h5ad` file from scratch. \n",
        "\n",
        "\n",
        "### Original study:\n",
        "A lineage-resolved molecular atlas of C. elegans embryogenesis at single-cell resolution\n",
        "\n",
        "Packer, Jonathan S. and Zhu, Qin and Huynh, Chau and Sivaramakrishnan, Priya and Preston, Elicia and Dueck, Hannah and Stefanik, Derek and Tan, Kai and Trapnell, Cole and Kim, Junhyong and Waterston, Robert H. and Murray, John I.\n",
        "\n",
        "Science  20 Sep 2019:\n",
        "Vol. 365, Issue 6459, eaax1971\n",
        "DOI: 10.1126/science.aax1971\n",
        "https://science.sciencemag.org/content/365/6459/eaax1971.editor-summary\n",
        "\n",
        "### Data description and link\n",
        "\n",
        "89,701 cells profiled with 10xv2 across multiple timepoints of development\n",
        "\n",
        "Data available at https://www.ncbi.nlm.nih.gov/geo/query/acc.cgi?acc=GSE126954\n",
        "\n",
        "\n",
        "\n",
        "## Data wrangling conventions\n",
        "\n",
        "As possible, we attempt to keep the field names lower case, short, descriptive, and only using valid Python variable names so they may be accessed via the syntax `adata.var.field_name` \n",
        "\n",
        "Below we provide a standard description of the mandatory fields we use in all datasets, plus some common optional ones that we have used so far (not all). Our goal is to standartize the naming convention for frequently used fields so that code may be reused without headaches changing variable names.\n",
        "\n",
        "### `adata.var`: gene IDs, names and descriptions \n",
        "\n",
        "|Field name | Description | Type | Example value | Optionality|\n",
        "|-----------|-------------|------|-------|-----|\n",
        "| `adata.var.index` | WormBase gene ID, must be unique | string | `WBGene00010957`| Required|\n",
        "| `adata.var.gene_id` | WormBase gene ID, repeat values from index | string | `WBGene00010957`|Required\n",
        "| `adata.var.gene_name` | WormBase gene name | string | `nduo-6 `|Required|\n",
        "| `adata.var.gene_description` | WormBase short gene description. Full list available for download [here](https://www.alliancegenome.org/downloads) | string | `Predicted to have NADH dehydrogenase (ubiquinone) activity. Predicted to localize to integral component of membrane; mitochondrial membrane; and respirasome.`|Required|\n",
        "\n",
        "### `adata.obs`: cell barcode, experiment, batch, original study, cell type\n",
        "\n",
        "|Field name | Description | Type | Example value | Optionality|\n",
        "|-----------|-------------|------|-------|-----|\n",
        "| `adata.var.index` | The batch name joined with cell barcode witha `+` char | string | `F4_1+TGTAACGGTTAGCTAC-1 `| Required|\n",
        "| `adata.var.study` | A unique shorthand for the study that published the data, ideally in the style <first author><year> all lower case. The .h5ad file should have the same name as the study it corresponds to.  | categorical | `taylor2020`| Required|\n",
        "| `adata.obs.batch` | The run that produced the corresponding barcode. Most of the time batch and experiment will be the same, but with multiplexing sometimes an one batch can have multiple experiments | categorical | `F4_1-1`|Required|\n",
        "| `adata.obs.experiment` | The biological experiment performed | categorical string | `F4_1`|Required|\n",
        "| `adata.obs.experiment_description` | Description of the experiment performed. This is mandatory because otherwise it will be very easy to confuse two experiments from their name without carefully reading the paper or contacting authors | categorical string | `F4_1`|Required|\n",
        "| `adata.obs.barcode` | The cell barcode | string | `AAACCCAAGATCGCTT-1`|Required|\n",
        "| `adata.obs.cell_type` | The cell type annotation provided by the authors. Should be `not provided` if not available | categorical | `ASJ`|Required|\n",
        "| `adata.obs.cell_subtype` | The cell subtype annotation if provided by the authors | categorical | `BWM_head_row_1`|Optional|\n",
        "| `adata.obs.tissue` | The tissue annotation if provided by the authors | categorical | `Intestine`|Optional|"
      ]
    },
    {
      "cell_type": "code",
      "metadata": {
        "id": "kLZnYKGK_IAo",
        "colab": {
          "base_uri": "https://localhost:8080/",
          "height": 35
        },
        "outputId": "9bddc14f-6f4f-43b7-adea-f83bb247120a"
      },
      "source": [
        "!pip install anndata --quiet\n",
        "import anndata \n",
        "import pandas as pd\n",
        "\n",
        "anndata.__version__"
      ],
      "execution_count": 1,
      "outputs": [
        {
          "output_type": "execute_result",
          "data": {
            "application/vnd.google.colaboratory.intrinsic+json": {
              "type": "string"
            },
            "text/plain": [
              "'0.7.5'"
            ]
          },
          "metadata": {
            "tags": []
          },
          "execution_count": 1
        }
      ]
    },
    {
      "cell_type": "code",
      "metadata": {
        "id": "MxJEtMPq_SmN",
        "colab": {
          "base_uri": "https://localhost:8080/",
          "height": 723
        },
        "outputId": "f63ea69d-33d8-4ba2-8cc3-26cce40491e9"
      },
      "source": [
        "# download cell annotation\n",
        "!wget https://ftp.ncbi.nlm.nih.gov/geo/series/GSE126nnn/GSE126954/suppl/GSE126954_cell_annotation.csv.gz\n",
        "!gunzip GSE126954_cell_annotation.csv.gz\n",
        "cells = pd.read_csv('GSE126954_cell_annotation.csv', index_col=0)\n",
        "cells.head().T"
      ],
      "execution_count": 2,
      "outputs": [
        {
          "output_type": "stream",
          "text": [
            "--2021-04-05 08:34:20--  https://ftp.ncbi.nlm.nih.gov/geo/series/GSE126nnn/GSE126954/suppl/GSE126954_cell_annotation.csv.gz\n",
            "Resolving ftp.ncbi.nlm.nih.gov (ftp.ncbi.nlm.nih.gov)... 130.14.250.11, 130.14.250.12, 2607:f220:41e:250::10, ...\n",
            "Connecting to ftp.ncbi.nlm.nih.gov (ftp.ncbi.nlm.nih.gov)|130.14.250.11|:443... connected.\n",
            "HTTP request sent, awaiting response... 200 OK\n",
            "Length: 2814304 (2.7M) [application/x-gzip]\n",
            "Saving to: ‘GSE126954_cell_annotation.csv.gz’\n",
            "\n",
            "GSE126954_cell_anno 100%[===================>]   2.68M  12.4MB/s    in 0.2s    \n",
            "\n",
            "2021-04-05 08:34:21 (12.4 MB/s) - ‘GSE126954_cell_annotation.csv.gz’ saved [2814304/2814304]\n",
            "\n"
          ],
          "name": "stdout"
        },
        {
          "output_type": "execute_result",
          "data": {
            "text/html": [
              "<div>\n",
              "<style scoped>\n",
              "    .dataframe tbody tr th:only-of-type {\n",
              "        vertical-align: middle;\n",
              "    }\n",
              "\n",
              "    .dataframe tbody tr th {\n",
              "        vertical-align: top;\n",
              "    }\n",
              "\n",
              "    .dataframe thead th {\n",
              "        text-align: right;\n",
              "    }\n",
              "</style>\n",
              "<table border=\"1\" class=\"dataframe\">\n",
              "  <thead>\n",
              "    <tr style=\"text-align: right;\">\n",
              "      <th></th>\n",
              "      <th>AAACCTGAGACAATAC-300.1.1</th>\n",
              "      <th>AAACCTGAGGGCTCTC-300.1.1</th>\n",
              "      <th>AAACCTGAGTGCGTGA-300.1.1</th>\n",
              "      <th>AAACCTGAGTTGAGTA-300.1.1</th>\n",
              "      <th>AAACCTGCAAGACGTG-300.1.1</th>\n",
              "    </tr>\n",
              "  </thead>\n",
              "  <tbody>\n",
              "    <tr>\n",
              "      <th>cell</th>\n",
              "      <td>AAACCTGAGACAATAC-300.1.1</td>\n",
              "      <td>AAACCTGAGGGCTCTC-300.1.1</td>\n",
              "      <td>AAACCTGAGTGCGTGA-300.1.1</td>\n",
              "      <td>AAACCTGAGTTGAGTA-300.1.1</td>\n",
              "      <td>AAACCTGCAAGACGTG-300.1.1</td>\n",
              "    </tr>\n",
              "    <tr>\n",
              "      <th>n.umi</th>\n",
              "      <td>1630</td>\n",
              "      <td>2319</td>\n",
              "      <td>3719</td>\n",
              "      <td>4251</td>\n",
              "      <td>1003</td>\n",
              "    </tr>\n",
              "    <tr>\n",
              "      <th>time.point</th>\n",
              "      <td>300_minutes</td>\n",
              "      <td>300_minutes</td>\n",
              "      <td>300_minutes</td>\n",
              "      <td>300_minutes</td>\n",
              "      <td>300_minutes</td>\n",
              "    </tr>\n",
              "    <tr>\n",
              "      <th>batch</th>\n",
              "      <td>Waterston_300_minutes</td>\n",
              "      <td>Waterston_300_minutes</td>\n",
              "      <td>Waterston_300_minutes</td>\n",
              "      <td>Waterston_300_minutes</td>\n",
              "      <td>Waterston_300_minutes</td>\n",
              "    </tr>\n",
              "    <tr>\n",
              "      <th>Size_Factor</th>\n",
              "      <td>1.02319</td>\n",
              "      <td>1.45821</td>\n",
              "      <td>2.33828</td>\n",
              "      <td>2.65905</td>\n",
              "      <td>0.62961</td>\n",
              "    </tr>\n",
              "    <tr>\n",
              "      <th>cell.type</th>\n",
              "      <td>Body_wall_muscle</td>\n",
              "      <td>NaN</td>\n",
              "      <td>NaN</td>\n",
              "      <td>Body_wall_muscle</td>\n",
              "      <td>Ciliated_amphid_neuron</td>\n",
              "    </tr>\n",
              "    <tr>\n",
              "      <th>cell.subtype</th>\n",
              "      <td>BWM_head_row_1</td>\n",
              "      <td>NaN</td>\n",
              "      <td>NaN</td>\n",
              "      <td>BWM_anterior</td>\n",
              "      <td>AFD</td>\n",
              "    </tr>\n",
              "    <tr>\n",
              "      <th>plot.cell.type</th>\n",
              "      <td>BWM_head_row_1</td>\n",
              "      <td>NaN</td>\n",
              "      <td>NaN</td>\n",
              "      <td>BWM_anterior</td>\n",
              "      <td>AFD</td>\n",
              "    </tr>\n",
              "    <tr>\n",
              "      <th>raw.embryo.time</th>\n",
              "      <td>360</td>\n",
              "      <td>260</td>\n",
              "      <td>270</td>\n",
              "      <td>260</td>\n",
              "      <td>350</td>\n",
              "    </tr>\n",
              "    <tr>\n",
              "      <th>embryo.time</th>\n",
              "      <td>380</td>\n",
              "      <td>220</td>\n",
              "      <td>230</td>\n",
              "      <td>280</td>\n",
              "      <td>350</td>\n",
              "    </tr>\n",
              "    <tr>\n",
              "      <th>embryo.time.bin</th>\n",
              "      <td>330-390</td>\n",
              "      <td>210-270</td>\n",
              "      <td>210-270</td>\n",
              "      <td>270-330</td>\n",
              "      <td>330-390</td>\n",
              "    </tr>\n",
              "    <tr>\n",
              "      <th>raw.embryo.time.bin</th>\n",
              "      <td>330-390</td>\n",
              "      <td>210-270</td>\n",
              "      <td>270-330</td>\n",
              "      <td>210-270</td>\n",
              "      <td>330-390</td>\n",
              "    </tr>\n",
              "    <tr>\n",
              "      <th>lineage</th>\n",
              "      <td>MSxpappp</td>\n",
              "      <td>MSxapaap</td>\n",
              "      <td>NaN</td>\n",
              "      <td>Dxap</td>\n",
              "      <td>ABalpppapav/ABpraaaapav</td>\n",
              "    </tr>\n",
              "    <tr>\n",
              "      <th>passed_initial_QC_or_later_whitelisted</th>\n",
              "      <td>True</td>\n",
              "      <td>True</td>\n",
              "      <td>True</td>\n",
              "      <td>True</td>\n",
              "      <td>True</td>\n",
              "    </tr>\n",
              "  </tbody>\n",
              "</table>\n",
              "</div>"
            ],
            "text/plain": [
              "                                        AAACCTGAGACAATAC-300.1.1  ...  AAACCTGCAAGACGTG-300.1.1\n",
              "cell                                    AAACCTGAGACAATAC-300.1.1  ...  AAACCTGCAAGACGTG-300.1.1\n",
              "n.umi                                                       1630  ...                      1003\n",
              "time.point                                           300_minutes  ...               300_minutes\n",
              "batch                                      Waterston_300_minutes  ...     Waterston_300_minutes\n",
              "Size_Factor                                              1.02319  ...                   0.62961\n",
              "cell.type                                       Body_wall_muscle  ...    Ciliated_amphid_neuron\n",
              "cell.subtype                                      BWM_head_row_1  ...                       AFD\n",
              "plot.cell.type                                    BWM_head_row_1  ...                       AFD\n",
              "raw.embryo.time                                              360  ...                       350\n",
              "embryo.time                                                  380  ...                       350\n",
              "embryo.time.bin                                          330-390  ...                   330-390\n",
              "raw.embryo.time.bin                                      330-390  ...                   330-390\n",
              "lineage                                                 MSxpappp  ...   ABalpppapav/ABpraaaapav\n",
              "passed_initial_QC_or_later_whitelisted                      True  ...                      True\n",
              "\n",
              "[14 rows x 5 columns]"
            ]
          },
          "metadata": {
            "tags": []
          },
          "execution_count": 2
        }
      ]
    },
    {
      "cell_type": "code",
      "metadata": {
        "colab": {
          "base_uri": "https://localhost:8080/"
        },
        "id": "nHxx9pYjGAzJ",
        "outputId": "b75cf7e0-105c-4743-959a-1ff8fe42461a"
      },
      "source": [
        "cells.columns"
      ],
      "execution_count": 3,
      "outputs": [
        {
          "output_type": "execute_result",
          "data": {
            "text/plain": [
              "Index(['cell', 'n.umi', 'time.point', 'batch', 'Size_Factor', 'cell.type',\n",
              "       'cell.subtype', 'plot.cell.type', 'raw.embryo.time', 'embryo.time',\n",
              "       'embryo.time.bin', 'raw.embryo.time.bin', 'lineage',\n",
              "       'passed_initial_QC_or_later_whitelisted'],\n",
              "      dtype='object')"
            ]
          },
          "metadata": {
            "tags": []
          },
          "execution_count": 3
        }
      ]
    },
    {
      "cell_type": "code",
      "metadata": {
        "id": "ow6ui0hPFf3H"
      },
      "source": [
        "cells_wrangled=cells.copy()\n",
        "\n",
        "cells_wrangled.columns=['barcode', 'n_umi', 'time_point', 'batch', 'size_factor',\n",
        "       'cell_type', 'cell_subtype', 'plot_cell_type', 'raw_embryo_time',\n",
        "       'embryo_time', 'embryo_time_bin', 'raw_embryo_time_bin', 'lineage',\n",
        "       'passed_qc']\n",
        "\n",
        "cells_wrangled.cell_type=cells_wrangled.cell_type.fillna('not provided')\n",
        "\n",
        "cells_wrangled['experiment']=cells_wrangled.batch\n",
        "\n",
        "cells_wrangled.index=cells_wrangled.batch+'+'+cells_wrangled.barcode"
      ],
      "execution_count": 4,
      "outputs": []
    },
    {
      "cell_type": "code",
      "metadata": {
        "colab": {
          "base_uri": "https://localhost:8080/"
        },
        "id": "qnaLlh9uHHRz",
        "outputId": "adb13fc1-4b1d-4ea7-a24e-ff206d0df124"
      },
      "source": [
        "experiment_descriptions_dict={\n",
        "'Waterston_300_minutes':'GSM3618670 UW synchronized 300 min post bleach',\n",
        "'Waterston_400_minutes':'GSM3618671 UW synchronized 400 min post bleach',\n",
        "'Waterston_500_minutes_batch_1':'GSM3618672 UW synchronized 500 min post bleach batch 1',\n",
        "'Waterston_500_minutes_batch_2':'GSM3618673 UW synchronized 500 min post bleach batch 2',\n",
        "'Murray_r17':'GSM3618674 UPenn mixed embryo batch r17',\n",
        "'Murray_b01':'GSM3618675 UPenn mixed embryo batch b01',\n",
        "'Murray_b02':'GSM3618676 UPenn mixed embryo batch b02'  \n",
        "}\n",
        "\n",
        "cells_wrangled.experiment.map(experiment_descriptions_dict)"
      ],
      "execution_count": 5,
      "outputs": [
        {
          "output_type": "execute_result",
          "data": {
            "text/plain": [
              "Waterston_300_minutes+AAACCTGAGACAATAC-300.1.1    GSM3618670 UW synchronized 300 min post bleach\n",
              "Waterston_300_minutes+AAACCTGAGGGCTCTC-300.1.1    GSM3618670 UW synchronized 300 min post bleach\n",
              "Waterston_300_minutes+AAACCTGAGTGCGTGA-300.1.1    GSM3618670 UW synchronized 300 min post bleach\n",
              "Waterston_300_minutes+AAACCTGAGTTGAGTA-300.1.1    GSM3618670 UW synchronized 300 min post bleach\n",
              "Waterston_300_minutes+AAACCTGCAAGACGTG-300.1.1    GSM3618670 UW synchronized 300 min post bleach\n",
              "                                                                       ...                      \n",
              "Murray_b02+TCTGAGACATGTCGAT-b02                          GSM3618676 UPenn mixed embryo batch b02\n",
              "Murray_b02+TCTGAGACATGTCTCC-b02                          GSM3618676 UPenn mixed embryo batch b02\n",
              "Murray_b02+TGGCCAGCACGAAGCA-b02                          GSM3618676 UPenn mixed embryo batch b02\n",
              "Murray_b02+TGGCGCACAGGCAGTA-b02                          GSM3618676 UPenn mixed embryo batch b02\n",
              "Murray_b02+TGGGCGTTCAGGCCCA-b02                          GSM3618676 UPenn mixed embryo batch b02\n",
              "Name: experiment, Length: 89701, dtype: object"
            ]
          },
          "metadata": {
            "tags": []
          },
          "execution_count": 5
        }
      ]
    },
    {
      "cell_type": "code",
      "metadata": {
        "colab": {
          "base_uri": "https://localhost:8080/",
          "height": 301
        },
        "id": "5g7qL_coHJnD",
        "outputId": "c3bbbe6c-a8c9-4834-cc10-9477ace8802a"
      },
      "source": [
        "# download gene annotation\n",
        "!wget https://ftp.ncbi.nlm.nih.gov/geo/series/GSE126nnn/GSE126954/suppl/GSE126954_gene_annotation.csv.gz\n",
        "!gunzip GSE126954_gene_annotation.csv.gz\n",
        "genes = pd.read_csv('GSE126954_gene_annotation.csv', index_col=0)\n",
        "genes.head().T"
      ],
      "execution_count": 6,
      "outputs": [
        {
          "output_type": "stream",
          "text": [
            "--2021-04-05 08:34:22--  https://ftp.ncbi.nlm.nih.gov/geo/series/GSE126nnn/GSE126954/suppl/GSE126954_gene_annotation.csv.gz\n",
            "Resolving ftp.ncbi.nlm.nih.gov (ftp.ncbi.nlm.nih.gov)... 130.14.250.11, 130.14.250.12, 2607:f220:41e:250::10, ...\n",
            "Connecting to ftp.ncbi.nlm.nih.gov (ftp.ncbi.nlm.nih.gov)|130.14.250.11|:443... connected.\n",
            "HTTP request sent, awaiting response... 200 OK\n",
            "Length: 177278 (173K) [application/x-gzip]\n",
            "Saving to: ‘GSE126954_gene_annotation.csv.gz’\n",
            "\n",
            "GSE126954_gene_anno 100%[===================>] 173.12K  --.-KB/s    in 0.08s   \n",
            "\n",
            "2021-04-05 08:34:22 (2.10 MB/s) - ‘GSE126954_gene_annotation.csv.gz’ saved [177278/177278]\n",
            "\n"
          ],
          "name": "stdout"
        },
        {
          "output_type": "execute_result",
          "data": {
            "text/html": [
              "<div>\n",
              "<style scoped>\n",
              "    .dataframe tbody tr th:only-of-type {\n",
              "        vertical-align: middle;\n",
              "    }\n",
              "\n",
              "    .dataframe tbody tr th {\n",
              "        vertical-align: top;\n",
              "    }\n",
              "\n",
              "    .dataframe thead th {\n",
              "        text-align: right;\n",
              "    }\n",
              "</style>\n",
              "<table border=\"1\" class=\"dataframe\">\n",
              "  <thead>\n",
              "    <tr style=\"text-align: right;\">\n",
              "      <th></th>\n",
              "      <th>WBGene00010957</th>\n",
              "      <th>WBGene00010958</th>\n",
              "      <th>WBGene00010959</th>\n",
              "      <th>WBGene00010960</th>\n",
              "      <th>WBGene00010961</th>\n",
              "    </tr>\n",
              "  </thead>\n",
              "  <tbody>\n",
              "    <tr>\n",
              "      <th>id</th>\n",
              "      <td>WBGene00010957</td>\n",
              "      <td>WBGene00010958</td>\n",
              "      <td>WBGene00010959</td>\n",
              "      <td>WBGene00010960</td>\n",
              "      <td>WBGene00010961</td>\n",
              "    </tr>\n",
              "    <tr>\n",
              "      <th>gene_short_name</th>\n",
              "      <td>nduo-6</td>\n",
              "      <td>ndfl-4</td>\n",
              "      <td>nduo-1</td>\n",
              "      <td>atp-6</td>\n",
              "      <td>nduo-2</td>\n",
              "    </tr>\n",
              "  </tbody>\n",
              "</table>\n",
              "</div>"
            ],
            "text/plain": [
              "                 WBGene00010957  WBGene00010958  ...  WBGene00010960  WBGene00010961\n",
              "id               WBGene00010957  WBGene00010958  ...  WBGene00010960  WBGene00010961\n",
              "gene_short_name          nduo-6          ndfl-4  ...           atp-6          nduo-2\n",
              "\n",
              "[2 rows x 5 columns]"
            ]
          },
          "metadata": {
            "tags": []
          },
          "execution_count": 6
        }
      ]
    },
    {
      "cell_type": "code",
      "metadata": {
        "colab": {
          "base_uri": "https://localhost:8080/",
          "height": 415
        },
        "id": "KfHYkgyZIuuQ",
        "outputId": "b527d572-d5b3-41bd-f7d0-2ae6496b4933"
      },
      "source": [
        "genes_wrangled=genes.copy()\n",
        "\n",
        "genes_wrangled.columns=['gene_id','gene_name']\n",
        "\n",
        "genes_wrangled"
      ],
      "execution_count": 7,
      "outputs": [
        {
          "output_type": "execute_result",
          "data": {
            "text/html": [
              "<div>\n",
              "<style scoped>\n",
              "    .dataframe tbody tr th:only-of-type {\n",
              "        vertical-align: middle;\n",
              "    }\n",
              "\n",
              "    .dataframe tbody tr th {\n",
              "        vertical-align: top;\n",
              "    }\n",
              "\n",
              "    .dataframe thead th {\n",
              "        text-align: right;\n",
              "    }\n",
              "</style>\n",
              "<table border=\"1\" class=\"dataframe\">\n",
              "  <thead>\n",
              "    <tr style=\"text-align: right;\">\n",
              "      <th></th>\n",
              "      <th>gene_id</th>\n",
              "      <th>gene_name</th>\n",
              "    </tr>\n",
              "  </thead>\n",
              "  <tbody>\n",
              "    <tr>\n",
              "      <th>WBGene00010957</th>\n",
              "      <td>WBGene00010957</td>\n",
              "      <td>nduo-6</td>\n",
              "    </tr>\n",
              "    <tr>\n",
              "      <th>WBGene00010958</th>\n",
              "      <td>WBGene00010958</td>\n",
              "      <td>ndfl-4</td>\n",
              "    </tr>\n",
              "    <tr>\n",
              "      <th>WBGene00010959</th>\n",
              "      <td>WBGene00010959</td>\n",
              "      <td>nduo-1</td>\n",
              "    </tr>\n",
              "    <tr>\n",
              "      <th>WBGene00010960</th>\n",
              "      <td>WBGene00010960</td>\n",
              "      <td>atp-6</td>\n",
              "    </tr>\n",
              "    <tr>\n",
              "      <th>WBGene00010961</th>\n",
              "      <td>WBGene00010961</td>\n",
              "      <td>nduo-2</td>\n",
              "    </tr>\n",
              "    <tr>\n",
              "      <th>...</th>\n",
              "      <td>...</td>\n",
              "      <td>...</td>\n",
              "    </tr>\n",
              "    <tr>\n",
              "      <th>WBGene00021597</th>\n",
              "      <td>WBGene00021597</td>\n",
              "      <td>spsb-1</td>\n",
              "    </tr>\n",
              "    <tr>\n",
              "      <th>WBGene00021596</th>\n",
              "      <td>WBGene00021596</td>\n",
              "      <td>spsb-2</td>\n",
              "    </tr>\n",
              "    <tr>\n",
              "      <th>WBGene00021595</th>\n",
              "      <td>WBGene00021595</td>\n",
              "      <td>Y46E12BL.2</td>\n",
              "    </tr>\n",
              "    <tr>\n",
              "      <th>WBGene00021594</th>\n",
              "      <td>WBGene00021594</td>\n",
              "      <td>tig-3</td>\n",
              "    </tr>\n",
              "    <tr>\n",
              "      <th>WBGene00007064</th>\n",
              "      <td>WBGene00007064</td>\n",
              "      <td>2RSSE.1</td>\n",
              "    </tr>\n",
              "  </tbody>\n",
              "</table>\n",
              "<p>20222 rows × 2 columns</p>\n",
              "</div>"
            ],
            "text/plain": [
              "                       gene_id   gene_name\n",
              "WBGene00010957  WBGene00010957      nduo-6\n",
              "WBGene00010958  WBGene00010958      ndfl-4\n",
              "WBGene00010959  WBGene00010959      nduo-1\n",
              "WBGene00010960  WBGene00010960       atp-6\n",
              "WBGene00010961  WBGene00010961      nduo-2\n",
              "...                        ...         ...\n",
              "WBGene00021597  WBGene00021597      spsb-1\n",
              "WBGene00021596  WBGene00021596      spsb-2\n",
              "WBGene00021595  WBGene00021595  Y46E12BL.2\n",
              "WBGene00021594  WBGene00021594       tig-3\n",
              "WBGene00007064  WBGene00007064     2RSSE.1\n",
              "\n",
              "[20222 rows x 2 columns]"
            ]
          },
          "metadata": {
            "tags": []
          },
          "execution_count": 7
        }
      ]
    },
    {
      "cell_type": "code",
      "metadata": {
        "colab": {
          "base_uri": "https://localhost:8080/"
        },
        "id": "eDG3kWx_JpNc",
        "outputId": "ee2bf848-766e-478b-9e7e-7cfffd5c3afa"
      },
      "source": [
        "# download gene count matrix\n",
        "!wget https://ftp.ncbi.nlm.nih.gov/geo/series/GSE126nnn/GSE126954/suppl/GSE126954_gene_by_cell_count_matrix.txt.gz\n",
        "!gunzip GSE126954_gene_by_cell_count_matrix.txt.gz\n"
      ],
      "execution_count": 8,
      "outputs": [
        {
          "output_type": "stream",
          "text": [
            "--2021-04-05 08:34:22--  https://ftp.ncbi.nlm.nih.gov/geo/series/GSE126nnn/GSE126954/suppl/GSE126954_gene_by_cell_count_matrix.txt.gz\n",
            "Resolving ftp.ncbi.nlm.nih.gov (ftp.ncbi.nlm.nih.gov)... 130.14.250.11, 130.14.250.12, 2607:f220:41e:250::10, ...\n",
            "Connecting to ftp.ncbi.nlm.nih.gov (ftp.ncbi.nlm.nih.gov)|130.14.250.11|:443... connected.\n",
            "HTTP request sent, awaiting response... 200 OK\n",
            "Length: 261278354 (249M) [application/x-gzip]\n",
            "Saving to: ‘GSE126954_gene_by_cell_count_matrix.txt.gz’\n",
            "\n",
            "GSE126954_gene_by_c 100%[===================>] 249.17M  99.2MB/s    in 2.5s    \n",
            "\n",
            "2021-04-05 08:34:25 (99.2 MB/s) - ‘GSE126954_gene_by_cell_count_matrix.txt.gz’ saved [261278354/261278354]\n",
            "\n"
          ],
          "name": "stdout"
        }
      ]
    },
    {
      "cell_type": "code",
      "metadata": {
        "colab": {
          "base_uri": "https://localhost:8080/"
        },
        "id": "3fzM_bqUKBhX",
        "outputId": "45cda5f3-8fc3-49db-f796-84d6b0ff0688"
      },
      "source": [
        "adata=anndata.read_mtx('GSE126954_gene_by_cell_count_matrix.txt')\n",
        "adata.var=cells_wrangled\n",
        "adata.obs=genes_wrangled\n",
        "adata"
      ],
      "execution_count": 10,
      "outputs": [
        {
          "output_type": "execute_result",
          "data": {
            "text/plain": [
              "AnnData object with n_obs × n_vars = 20222 × 89701\n",
              "    obs: 'gene_id', 'gene_name'\n",
              "    var: 'barcode', 'n_umi', 'time_point', 'batch', 'size_factor', 'cell_type', 'cell_subtype', 'plot_cell_type', 'raw_embryo_time', 'embryo_time', 'embryo_time_bin', 'raw_embryo_time_bin', 'lineage', 'passed_qc', 'experiment'"
            ]
          },
          "metadata": {
            "tags": []
          },
          "execution_count": 10
        }
      ]
    },
    {
      "cell_type": "code",
      "metadata": {
        "colab": {
          "base_uri": "https://localhost:8080/"
        },
        "id": "Px6DLZTDKFxp",
        "outputId": "19405163-317c-472d-c456-bba0e657e2f0"
      },
      "source": [
        "adata.write_h5ad('packer2019.h5ad')\n",
        "## once data is written to drive it should be downloaded and manually uploaded to figshare"
      ],
      "execution_count": 11,
      "outputs": [
        {
          "output_type": "stream",
          "text": [
            "... storing 'time_point' as categorical\n",
            "... storing 'batch' as categorical\n",
            "... storing 'cell_type' as categorical\n",
            "... storing 'cell_subtype' as categorical\n",
            "... storing 'plot_cell_type' as categorical\n",
            "... storing 'embryo_time_bin' as categorical\n",
            "... storing 'raw_embryo_time_bin' as categorical\n",
            "... storing 'lineage' as categorical\n",
            "... storing 'experiment' as categorical\n"
          ],
          "name": "stderr"
        }
      ]
    },
    {
      "cell_type": "code",
      "metadata": {
        "colab": {
          "base_uri": "https://localhost:8080/"
        },
        "id": "IiU94AZnKj7O",
        "outputId": "eeb48cef-3911-4b35-bb8f-c3c9719ae0e2"
      },
      "source": [
        "print(adata.obs.head().T)"
      ],
      "execution_count": 12,
      "outputs": [
        {
          "output_type": "stream",
          "text": [
            "           WBGene00010957  WBGene00010958  ...  WBGene00010960  WBGene00010961\n",
            "gene_id    WBGene00010957  WBGene00010958  ...  WBGene00010960  WBGene00010961\n",
            "gene_name          nduo-6          ndfl-4  ...           atp-6          nduo-2\n",
            "\n",
            "[2 rows x 5 columns]\n"
          ],
          "name": "stdout"
        }
      ]
    },
    {
      "cell_type": "code",
      "metadata": {
        "colab": {
          "base_uri": "https://localhost:8080/"
        },
        "id": "_tn4ITeOMNCm",
        "outputId": "15ffd458-362e-4c7b-f72a-e7527bf79af3"
      },
      "source": [
        "print(adata.var.head().T)"
      ],
      "execution_count": 13,
      "outputs": [
        {
          "output_type": "stream",
          "text": [
            "                    Waterston_300_minutes+AAACCTGAGACAATAC-300.1.1  ... Waterston_300_minutes+AAACCTGCAAGACGTG-300.1.1\n",
            "barcode                                   AAACCTGAGACAATAC-300.1.1  ...                       AAACCTGCAAGACGTG-300.1.1\n",
            "n_umi                                                         1630  ...                                           1003\n",
            "time_point                                             300_minutes  ...                                    300_minutes\n",
            "batch                                        Waterston_300_minutes  ...                          Waterston_300_minutes\n",
            "size_factor                                                1.02319  ...                                        0.62961\n",
            "cell_type                                         Body_wall_muscle  ...                         Ciliated_amphid_neuron\n",
            "cell_subtype                                        BWM_head_row_1  ...                                            AFD\n",
            "plot_cell_type                                      BWM_head_row_1  ...                                            AFD\n",
            "raw_embryo_time                                                360  ...                                            350\n",
            "embryo_time                                                    380  ...                                            350\n",
            "embryo_time_bin                                            330-390  ...                                        330-390\n",
            "raw_embryo_time_bin                                        330-390  ...                                        330-390\n",
            "lineage                                                   MSxpappp  ...                        ABalpppapav/ABpraaaapav\n",
            "passed_qc                                                     True  ...                                           True\n",
            "experiment                                   Waterston_300_minutes  ...                          Waterston_300_minutes\n",
            "\n",
            "[15 rows x 5 columns]\n"
          ],
          "name": "stdout"
        }
      ]
    },
    {
      "cell_type": "code",
      "metadata": {
        "colab": {
          "base_uri": "https://localhost:8080/"
        },
        "id": "g03a5RUjMQJP",
        "outputId": "b1ad6e2c-0f57-4f38-f698-a7e77e7b78ef"
      },
      "source": [
        "print(adata)"
      ],
      "execution_count": 14,
      "outputs": [
        {
          "output_type": "stream",
          "text": [
            "AnnData object with n_obs × n_vars = 20222 × 89701\n",
            "    obs: 'gene_id', 'gene_name'\n",
            "    var: 'barcode', 'n_umi', 'time_point', 'batch', 'size_factor', 'cell_type', 'cell_subtype', 'plot_cell_type', 'raw_embryo_time', 'embryo_time', 'embryo_time_bin', 'raw_embryo_time_bin', 'lineage', 'passed_qc', 'experiment'\n"
          ],
          "name": "stdout"
        }
      ]
    },
    {
      "cell_type": "code",
      "metadata": {
        "id": "48k_FYOMMReV"
      },
      "source": [
        ""
      ],
      "execution_count": null,
      "outputs": []
    }
  ]
}